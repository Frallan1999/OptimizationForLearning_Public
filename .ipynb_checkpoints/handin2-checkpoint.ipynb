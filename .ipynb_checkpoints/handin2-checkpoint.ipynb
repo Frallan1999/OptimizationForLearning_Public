{
 "cells": [
  {
   "cell_type": "markdown",
   "metadata": {},
   "source": [
    "### Fill in group number and member names:"
   ]
  },
  {
   "cell_type": "code",
   "execution_count": 1,
   "metadata": {},
   "outputs": [],
   "source": [
    "GROUP = \"22\"\n",
    "NAME1 = \"Ivar Fagerfjäll\"\n",
    "NAME2 = \"Hanna Frederiksen\""
   ]
  },
  {
   "cell_type": "markdown",
   "metadata": {},
   "source": [
    "# Optimization for learning - FRTN50\n",
    "\n",
    "## Assignment 2\n",
    "\n",
    "The purpose of this assignment is to empirically explore some convergence and implicit regularization properties of the stochastic gradient decent (SGD) method and some of its variants. These properties are mainly explored by considering simple polynomial fitting problems in $\\mathbb{R}$ to facilitate easy comparison with known theoretical results and easy visualization. We will also compare the same fitting problem with multi-layer perceptrons also known as fully connected feedforward neural networks.\n",
    "\n",
    "Below are the tasks that you need to solve. Keep this in mind:\n",
    "- Carefully motivate every step in your calculations.\n",
    "- Use figures and tables to motivate your answers.\n",
    "- Figures must have appropriately labeled axes and must be referenced in the main text.\n",
    "- Your code should be written in a quite general manner, i.e., if a question is slightly modified, it should only require slight modifications in your code as well. \n",
    "- Comment your code well. \n",
    "- Make sure you plot in such a way that small quantities are visible. In particular, use log-linear plots, where the quantity that should go to $0$ is on the $y$-axis using logarithmic scale, and the iteration number $k$ on the $x$-axis using linear scale.\n",
    "- What you need to submit to Canvas:\n",
    "    - This jupyter notebook containing your solutions.\n",
    "    - An exported pdf version of the jupyter notebook."
   ]
  },
  {
   "cell_type": "markdown",
   "metadata": {},
   "source": [
    "---\n",
    "### Exercise 1: Polynomial fitting in $\\mathbb{R}$ using least squares with a polynomial feature map\n",
    "\n",
    "Consider fitting the points $\\{(x_{i},y_{i})\\}_{i=1}^{N}\\subseteq\\mathbb{R}\\times\\mathbb{R}$ to a polynomial model $m(\\cdot;\\theta):\\mathbb{R}\\rightarrow\\mathbb{R}$ using the method of least squares. Here, the model is given by\n",
    "\n",
    "$$\n",
    "\\begin{align}\n",
    "    m(x;\\theta) = \\theta^{T}\\phi(x)\n",
    "\\end{align}\n",
    "$$\n",
    "\n",
    "where $\\theta\\in\\mathbb{R}^{n+1}$ is the parameter of the model and $\\phi:\\mathbb{R}\\rightarrow\\mathbb{R}^{n+1}$ is a polynomial feature map given by\n",
    "\n",
    "$$\n",
    "\\begin{align}\n",
    "    \\phi(x) = \n",
    "    \\begin{bmatrix}\n",
    "    1 \\\\\n",
    "    x \\\\\n",
    "    \\vdots \\\\\n",
    "    x^{n}\n",
    "    \\end{bmatrix}\n",
    "\\end{align}\n",
    "$$\n",
    "for each $x\\in\\mathbb{R}$.\n",
    "\n",
    "I.e. $m(\\cdot;\\theta)$ is a polynomial (in particular nonlinear) model of degree $n$ and is linear in the parameter $\\theta$. If we compare to deep learning, the model $m(\\cdot;\\theta)$ would have a specific structure but would be nonlinear in the parameter $\\theta$ in general.\n",
    "\n",
    "The method of least squares involves solving the optimization problem\n",
    "\n",
    "$$\n",
    "\\begin{equation}\\label{eq:1}\\tag{1}\n",
    "\\begin{aligned}\n",
    "& \\underset{\\theta\\in\\mathbb{R}^{n+1}}{\\mathrm{minimize}}\n",
    "& & \\frac{1}{N} \\sum_{i=1}^{N}(m(x_{i};\\theta) - y_{i})^{2} = \\frac{1}{N} \\sum_{i=1}^{N}\\underbrace{(\\theta^{T}\\phi(x_{i}) - y_{i})^{2}}_{=f_{i}(\\theta)} = \\frac{1}{N} \\sum_{i=1}^{N}f_{i}(\\theta) \n",
    "\\end{aligned}\n",
    "\\end{equation}\n",
    "$$\n",
    "\n",
    "giving an optimal point $\\theta^{*}\\in\\mathbb{R}^{n+1}$, and letting $m(\\cdot;\\theta^{*})$ be the fitted model. If we let \n",
    "\n",
    "$$\n",
    "\\begin{align}\n",
    "    X = \n",
    "    \\begin{bmatrix}\n",
    "    \\phi(x_{1})^{T} \\\\\n",
    "    \\vdots \\\\\n",
    "    \\phi(x_{N})^{T} \n",
    "    \\end{bmatrix}\\in\\mathbb{R}^{N \\times (n+1)},  \\quad \\text{ and } \\quad\n",
    "    Y = \n",
    "    \\begin{bmatrix}\n",
    "    y_{1} \\\\\n",
    "    \\vdots \\\\\n",
    "    y_{N}\n",
    "    \\end{bmatrix}\\in\\mathbb{R}^{N},\n",
    "\\end{align}\n",
    "$$\n",
    "\n",
    "optimization problem $\\eqref{eq:1}$ can be written as \n",
    "\n",
    "$$\n",
    "\\begin{equation}\\label{eq:2}\\tag{2}\n",
    "\\begin{aligned}\n",
    "& \\underset{\\theta\\in\\mathbb{R}^{n+1}}{\\mathrm{minimize}}\n",
    "& & \\frac{1}{N} \\left\\lVert X\\theta - Y \\right\\rVert_{2}^{2} = f(\\theta).\n",
    "\\end{aligned}\n",
    "\\end{equation}\n",
    "$$\n",
    "\n",
    "Since the model $m(\\cdot;\\theta)$ is linear in $\\theta$, the function $f$ is convex in $\\theta$. This is not the case in deep learning, since the model $m(\\cdot;\\theta)$ would not be linear in $\\theta$ in general.\n",
    "\n",
    "If the points $x_{i}$ in $\\{(x_{i},y_{i})\\}_{i=1}^{N}$ are distinct, which is the case in our analysis, it holds that \n",
    "\n",
    "$$\n",
    "\\begin{align}\n",
    "    \\text{rank } X = \\min(N,n+1).\n",
    "\\end{align}\n",
    "$$\n",
    "(See [Vandermonde matrix](https://en.wikipedia.org/wiki/Vandermonde_matrix) for more info.) In particular,\n",
    "1. if $N < n+1$, optimization problem $\\eqref{eq:2}$ is underdetermined, $X X^{T}$ is invertible and there exist $\\theta^{*}\\in\\mathbb{R}^{n+1}$ such that $X\\theta^{*} = Y$,\n",
    "2. if $N > n+1$, optimization problem $\\eqref{eq:2}$ is overdetermined and $X^{T} X$ is invertible,\n",
    "3. if $N = n+1$, both $X X^{T}$ and $X^{T} X$ are invertible and optimization problem $\\eqref{eq:2}$ is neither underdetermined nor overdetermined.\n",
    "\n",
    "You are allowed to assume these facts as given."
   ]
  },
  {
   "cell_type": "markdown",
   "metadata": {},
   "source": [
    "---\n",
    "__a)__ A model is sometimes said to be overparameterized if it has more parameters than data points. By the same token, a model is said to be underparameterized if it has less parameters than data points. \n",
    "\n",
    "- Suppose that our model is overparameterized. Which case of 1., 2. and 3. above does this corresponds to? \n",
    "- Suppose that our model is underparameterized. Which case of 1., 2. and 3. above does this corresponds to? \n",
    "\n",
    "Motivate your answer. It is crucial that you get this right to avoid confusion later.\n",
    "\n",
    "__Solution:__ \n",
    "\n",
    "If a model is overparameterized it has more parameters than data points. And similar if a model is underparameterized it has fewer parameters then data points. \n",
    "\n",
    "Our model has $N$ data points and $n+1$ parameters. So for the model to be __overparameterized__\n",
    "\n",
    "\\begin{align}\n",
    "    n+1 > N \n",
    "\\end{align}\n",
    "\n",
    "which corresponds to __case 1__, i.e. an undertermined optimization problem of form $(2)$. Similarly for the model to be __underparameterized__ \n",
    "\n",
    "\n",
    "\\begin{align}\n",
    "    n+1 < N\n",
    "\\end{align}\n",
    "\n",
    "which corresponds to __case 2__, i.e. an overdetermined optimization problem of form $(2)$. "
   ]
  },
  {
   "cell_type": "markdown",
   "metadata": {},
   "source": [
    "---\n",
    "__b)__ Find $\\nabla f$, $\\nabla f_{i}$ and $\\nabla^{2}f$.\n",
    "\n",
    "Carefully motivate your answer.\n",
    "\n",
    "__Solution:__ \n",
    "\n",
    "Since $f_i$ is a composition of two twice differentiable functions it is also twice differentiable. So for $\\nabla f_{i}$ we have that \n",
    "\n",
    "\\begin{align}\n",
    "    f_{i} (\\theta) = (\\theta^T \\phi(x_i) - y_i)^2\n",
    "\\end{align}\n",
    "\n",
    "and $\\nabla f_{i}$ is equal to \n",
    "\n",
    "\\begin{align}\n",
    "   \\nabla f_{i} (\\theta) = 2 \\ \\phi(x_i) (\\phi(x_i)^T \\theta -  y_i)\n",
    "\\end{align}\n",
    "\n",
    "Since $f$ is a vector of twice differentiable functions $f_i$ it is also twice differentiable. So for $\\nabla f$ we have that \n",
    "\n",
    "\\begin{align}\n",
    "    f(\\theta) = \\frac{1}{N}  ||X \\theta - Y||_2^2\n",
    "\\end{align}\n",
    "\n",
    "Substituting $h(z) = \\frac{1}{N} \\left\\lVert z \\right\\rVert_{2}^{2}$, $h : \\mathbb{R^n} \\to \\mathbb{R}$ and $g(\\theta) = X\\theta - Y$, $g : \\mathbb{R^n} \\to \\mathbb{R^n}$ gives:\n",
    "\n",
    "\\begin{align}\n",
    "    f(\\theta) = (h \\circ g)(theta)\n",
    "\\end{align}\n",
    "\n",
    "Applying the chain rule gives:\n",
    "\n",
    "\\begin{align}\n",
    "    & \\nabla f(\\theta) \\\\\n",
    "    & = \\nabla (h \\circ g)(\\theta)\\\\\n",
    "    & = \\nabla(\\frac{1}{N} || g(\\theta) ||_{2}^{2})\\\\\n",
    "    & =\\frac{2}{N} g(\\theta) \\nabla g(\\theta) \\\\\n",
    "    & = \\frac{2}{N}(x \\theta - Y)X^T \\\\\n",
    "    & = \\frac{2}{N} (X^T X \\theta - X^T Y)\n",
    "\\end{align}\n",
    "\n",
    "Lastely for $\\nabla^{2}f$ we have \n",
    "\n",
    "\\begin{align}\n",
    "    \\nabla^{2}f(\\theta) = \\frac{2}{N} X^T X \n",
    "\\end{align}\n",
    "\n"
   ]
  },
  {
   "cell_type": "markdown",
   "metadata": {},
   "source": [
    "---\n",
    "__c)__ Since $f$ is convex and differentiable, all optimal points $\\theta^{*}\\in\\mathbb{R}^{n+1}$ to the least squares problem are fully characterized by the condition that\n",
    "\n",
    "$$\n",
    "\\begin{align}\n",
    "    \\nabla f (\\theta^{*}) = 0.\n",
    "\\end{align}\n",
    "$$\n",
    "\n",
    "Suppose that the least squares problem is underparameterized. \n",
    "\n",
    "- Show that there exists a solution $\\theta^{*}$\n",
    "- Conclude that it is unique\n",
    "- Find a expression for $f(\\theta^{*})$\n",
    "\n",
    "Carefully motivate your answer.\n",
    "\n",
    "__Solution:__ \n",
    "\n",
    "We know from task $(a)$ that if the least square problem is underparameterized, the optimization problem is overdetermined and so $X^TX$ is invertible. From task $(b)$ we know that the gradient $\\nabla f$ is \n",
    "\n",
    "\\begin{align}\n",
    "    \\nabla f(\\theta) = \\frac{2}{N} (X^T X \\theta - X^T Y). \n",
    "\\end{align}\n",
    "\n",
    "Putting this equal to zero we get\n",
    "\n",
    "\\begin{align}\n",
    "    X^T X \\theta = X^T Y\n",
    "\\end{align}\n",
    "\n",
    "and since $X^TX$ is invertible this can be written as \n",
    "\n",
    "\\begin{align} \\label{eq:3}\\tag{3}\n",
    "    \\theta^*= (X^T X)^{-1}X^T Y. \n",
    "\\end{align}\n",
    "\n",
    "So we can conclude that there exists a solution $\\theta^{*}$. \n",
    "We have an overdetermined system, but since the rank of the matrix $X$ is given by\n",
    "\n",
    "\\begin{align}\n",
    "    \\text{rank } X = \\min(N,n+1).\n",
    "\\end{align}\n",
    "\n",
    "it's rank is $n+1$. And the solution to a linear system is unique if and only if the rank of its matrix representation equals the number of variables, which it does. \n",
    "\n",
    "Lastly to find an expression for $f(\\theta^{*})$ we can put the derived expression $\\ref{eq:3}$ in the function $f$ to arrive at\n",
    "\n",
    "\\begin{align}\n",
    "    f(\\theta^{*}) = \\frac{1}{N}  ||X(X^T X)^{-1}X^T Y - Y||_2^2. \n",
    "\\end{align}\n"
   ]
  },
  {
   "cell_type": "markdown",
   "metadata": {},
   "source": [
    "---\n",
    "__d)__ Suppose instead that the least squares problem is overparameterized. Let $\\theta^{*}\\in\\mathbb{R}^{n+1}$. Show that $\\theta^{*}$ is a solution to the least squares problem if and only if $X\\theta^{*} = Y$. I.e. show that:\n",
    "- If $\\theta^{*}$ is a solution to the least squares problem, then $X\\theta^{*} = Y$.\n",
    "- If $X\\theta^{*} = Y$, then $\\theta^{*}$ is a solution to the least squares problem.\n",
    "\n",
    "Hence, the solution set is an affine set that can be written as $\\Theta^{*}  = \\{\\theta^{*} \\in\\mathbb{R}^{n+1}: X\\theta^{*}=Y\\}$.\n",
    "- Prove that the set $\\Theta^{*}$ is affine.\n",
    "\n",
    "Carefully motivate your answer.\n",
    "\n",
    "_Hints:_ Note that $f(\\theta)=\\frac{1}{N} \\left\\lVert X\\theta - Y \\right\\rVert_{2}^{2}\\geq 0$ for all $\\theta\\in\\mathbb{R}^{n+1}$. Moreover, what can be said in the overparameterized case? What is the definition of an affine set?\n",
    "\n",
    "__Solution:__ \n",
    "\n",
    "We know have a overparameterized least square problem, i.e. $N < n+1$ and the system is underdetermined. We further know that $XX^T$ is invertible and there exist $\\theta^{*}\\in\\mathbb{R}^{n+1}$ such that $X\\theta^{*} = Y$. \n",
    "\n",
    "We start with assuming that $\\theta^*$ is the solution to the least square problem. Setting the gradient to zero we know from before that \n",
    "\n",
    "\\begin{align}\n",
    "    X^T X \\theta = X^T Y.\n",
    "\\end{align}\n",
    "\n",
    "Multiplying both sides with $X$ \n",
    "\n",
    "\\begin{align}\n",
    "    XX^T X \\theta = XX^T Y \\\\ \n",
    "\\end{align}\n",
    "\n",
    "and knowing that $XX^T$ now is invertible we get\n",
    "\n",
    "\\begin{align}\n",
    "    X\\theta = (XX^T)^{-1}XX^T Y = Y.\n",
    "\\end{align}\n",
    "\n",
    "So the first direction is proven. We now want to prove the other way, and start with assuming that $X\\theta^{*} = Y$. Putting this in the equation for $f$ we get\n",
    "\n",
    "\\begin{align} \n",
    "    f(\\theta^{*}) = \\frac{1}{N}  ||X\\theta^{*} - Y||_2^2 \\\\ \n",
    "    = \\frac{1}{N} ||Y-Y||_2^2 = 0 \n",
    "\\end{align}\n",
    "\n",
    "and since the function $f(\\theta)=\\frac{1}{N} \\left\\lVert X\\theta - Y \\right\\rVert_{2}^{2}\\geq 0$ for all $\\theta\\in\\mathbb{R}^{n+1}$, this is the smallest value. \n",
    "\n",
    "\n",
    "We know that a set $A$ is affine if for any two points $x, y \\in A$ and $\\alpha \\in R$: \n",
    "\n",
    "\\begin{align} \n",
    "    \\alpha x + (1-\\alpha)y \\in A. \n",
    "\\end{align}\n",
    "\n",
    "For the set $\\Theta^{*}  = \\{\\theta^{*} \\in\\mathbb{R}^{n+1}: X\\theta^{*}=Y\\}$ we choose $\\theta^{*}_1$ and $\\theta^{*}_2$ that belongs to the set and conduct the affine composition\n",
    "\n",
    "\\begin{align} \n",
    "    \\alpha \\theta^{*}_1 + (1-\\alpha)\\theta^{*}_2.\n",
    "\\end{align}\n",
    "\n",
    "Multiplying this with $X$ we arrive at \n",
    "\n",
    "\\begin{align} \n",
    "    \\alpha X \\theta^{*}_1 + (1-\\alpha) X \\theta^{*}_2 \\\\ \n",
    "    = \\alpha Y + (1-\\alpha) Y = Y\n",
    "\\end{align}\n",
    "\n",
    "and so by definition of the set $\\Theta^{*}$ the affine composition lies in the set, and so the set is affine by definition of an affine set. "
   ]
  },
  {
   "cell_type": "markdown",
   "metadata": {},
   "source": [
    "---\n",
    "__e)__ In the overparameterized case, the null space $\\mathcal{N}(X)=\\{\\theta\\in\\mathbb{R}^{n+1}:X\\theta=0\\}$ has dimension $\\dim\\mathcal{N}(X) = n+1-N >0$. This can be shown using, e.g., the rank–nullity theorem. Suppose that $\\hat\\theta\\in\\mathbb{R}^{n+1}$ is some point that satisfies $X\\hat\\theta = Y$ and that $v\\in\\mathcal{N}(X)$. \n",
    "\n",
    "- Show that $\\hat\\theta+v$ is a solution to the least squares problem.\n",
    "- Show that $\\hat\\theta+\\alpha v$ is a solution to the least squares problem for all $\\alpha \\in \\mathbb{R}$. (This follows from from the above but is included to emphasize the fact that, assuming $v\\neq 0$, we can add an arbitrary large vector to $\\hat\\theta$ and it still remains a solution to the the least squares problem.)\n",
    "\n",
    "As a consequence, note that an another characterization of the set of solutions of the least squares problem is given by $\\Theta^{*}  = \\{\\hat\\theta + v : v\\in\\mathcal{N}(X) \\}$. In particular, $\\Theta^{*}$ has dimension $\\dim\\Theta^{*} = n+1-N >0$. Therefore, the more overparameterized (larger $n+1-N$) the problem is, the large the solution set $\\Theta^{*}$ becomes. \n",
    "\n",
    "- Show that $\\Theta^{*}$ and $\\{\\hat\\theta + v : v\\in\\mathcal{N}(X) \\}$ are equal. One way to show this is to show that all elements of $\\Theta^{*}$ are in $\\{\\hat\\theta + v : v\\in\\mathcal{N}(X) \\}$, i.e. $\\Theta^{*}\\subseteq\\{\\hat\\theta + v : v\\in\\mathcal{N}(X) \\}$, and that all elements in $\\{\\hat\\theta + v : v\\in\\mathcal{N}(X) \\}$ are in $\\Theta^{*}$, i.e. $\\{\\hat\\theta + v : v\\in\\mathcal{N}(X) \\}\\subseteq\\Theta^{*}$.\n",
    "\n",
    "Carefully motivate your answer.\n",
    "\n",
    "__Solution:__ \n",
    "\n",
    "We know from previous task that $\\theta$ is a solution to the least square problem if and only if $X\\theta = Y$. In this task $v$ belongs to $\\mathcal{N}(X)$ and so $v \\in\\mathbb{R}^{n+1}$ and $Xv=0$. We also have that $X\\hat\\theta = Y$. \n",
    "\n",
    "To show that $\\hat\\theta+v$ also is a solution to the least squares problem, we start by multiplying the sum with $X$ \n",
    "\n",
    "\\begin{align*}\n",
    "    X (\\hat\\theta+v) = X \\hat\\theta+ Xv = X \\hat\\theta + 0 = Y. \n",
    "\\end{align*}  \n",
    "\n",
    "So by the equivelence proven in the last task $\\hat\\theta+v$ must be a solution to the least square problem. \n",
    "\n",
    "Further to show that we can multiply $v$ with any scalar and the sum still being a solution we state that \n",
    "\n",
    "\\begin{align*}\n",
    "    X (\\hat\\theta+\\alpha v) = X \\hat\\theta+ \\alpha Xv = X \\hat\\theta + \\alpha 0 = Y. \n",
    "\\end{align*}  \n",
    "\n",
    "----\n",
    "\n",
    "\n",
    "From before we defined the set $\\Theta^{*}  = \\{\\theta^{*} \\in\\mathbb{R}^{n+1}: X\\theta^{*}=Y\\}$. Let $\\theta^{*} \\in \\Theta^{*}$, then $\\theta^{*}\\in\\mathbb{R}^{n+1}$ is a point that satisfies $X\\theta^{*} = Y$. This is the definition for some point $\\hat\\theta$. By then adding a vector $v \\in \\mathcal{N}(X)$ to $\\theta^{*}$ it is the same as $\\hat\\theta + v$ and so all $\\theta^{*}$ are in $\\{\\hat\\theta + v : v\\in\\mathcal{N}(X) \\}$, i.e. $\\Theta^{*}\\subseteq\\{\\hat\\theta + v : v\\in\\mathcal{N}(X) \\}$ \n",
    "\n",
    "The other way we assume $\\hat\\theta + v \\in \\{\\hat\\theta + v : v\\in\\mathcal{N}(X) \\}$. Knowing that $v\\in\\mathcal{N}(X)$ we state that $\\mathcal{N}(X)=\\{\\theta\\in\\mathbb{R}^{n+1}:X\\theta=0\\}$. Further we know that $\\hat\\theta\\in\\mathbb{R}^{n+1}$ is some point that satisfies $X\\hat\\theta = Y$. \n",
    "Multiplying $\\hat\\theta + v$ with $X$ we get\n",
    "\n",
    "\\begin{align*}\n",
    "    X (\\hat\\theta+v) = X \\hat\\theta+ Xv = X \\hat\\theta + 0 = Y. \n",
    "\\end{align*}  \n",
    "\n",
    "which is the definition to belong to the set $\\Theta^{*}$. And so all $\\hat\\theta+v \\in \\Theta^{*}$, i.e. $\\{\\hat\\theta + v : v\\in\\mathcal{N}(X) \\}\\subseteq\\Theta^{*}$. \n",
    "\n",
    "Since both $\\Theta^{*}\\subseteq\\{\\hat\\theta + v : v\\in\\mathcal{N}(X) \\}$ and $\\{\\hat\\theta + v : v\\in\\mathcal{N}(X) \\}\\subseteq\\Theta^{*}$, the two sets must be equal, i.e $\\{\\hat\\theta + v : v \\in \\mathcal{N}(X) \\} = \\Theta^{*}$. \n",
    "\n",
    "\n",
    "\n"
   ]
  },
  {
   "cell_type": "markdown",
   "metadata": {},
   "source": [
    "---\n",
    "__f)__ Suppose that the least squares problem is overparameterized. \n",
    "\n",
    "Why can we not use the solution from __c)__ in this case?\n",
    "\n",
    "__Solution:__ \n",
    "\n",
    "The solution from c states that:\n",
    "\n",
    "\\begin{align*}\n",
    "    \\theta^*= (X^T X)^{-1}X^T Y,\n",
    "    \\\\ f(\\theta^{*}) = \\frac{1}{N}  ||X(X^T X)^{-1}X^T Y - Y||_2^2.\n",
    "\\end{align*}\n",
    "\n",
    "However, since the problem is overparameterized we know that $XX^T$ is invertible but not $X^TX$, the solution is therefor not usable."
   ]
  },
  {
   "cell_type": "markdown",
   "metadata": {},
   "source": [
    "---\n",
    "__g)__ Suppose that the least squares problem is overparameterized. \n",
    "\n",
    "We know from __d)__ and __e)__ that the set of all solutions $\\Theta^{*}$ is an affine set with infinitely many elements. One way to pick a solution is to start with some candidate point $a\\in\\mathbb{R}^{n+1}$ and project it onto $\\Theta^{*}$. Since $\\Theta^{*}$ is closed, convex and nonempty, the projection point exists and is unique, and can be found by solving the optimization problem \n",
    "\n",
    "$$\n",
    "\\begin{equation}\n",
    "\\begin{aligned}\n",
    "& \\underset{\\theta\\in\\mathbb{R}^{n+1}}{\\mathrm{minimize}}\n",
    "& &  \\frac{1}{2}\\left\\lVert \\theta - a \\right\\rVert_{2}^{2}\\\\\n",
    "& \\text{subject to}\n",
    "& &  \\theta \\in \\Theta^{*}.\n",
    "\\end{aligned}\n",
    "\\end{equation} \n",
    "$$ \n",
    "\n",
    "We call this the Euclidean projection problem. Another way to write the Euclidean projection problem is \n",
    "\n",
    "$$\n",
    "\\begin{equation}\n",
    "\\begin{aligned}\n",
    "& \\underset{\\theta\\in\\mathbb{R}^{n+1}}{\\mathrm{minimize}}\n",
    "& &  \\frac{1}{2}\\left\\lVert \\theta - a \\right\\rVert_{2}^{2} + \\iota_{\\Theta^{*}}(\\theta)\n",
    "\\end{aligned}\n",
    "\\end{equation} \n",
    "$$ \n",
    "\n",
    "\n",
    "where $\\iota_{\\Theta^{*}}$ is the indicator function of the set $\\Theta^{*}$. By Fermat's rule, $\\theta^{*} \\in\\mathbb{R}^{n+1}$ is an optimal point to the Euclidean projection problem if and only if the optimality condition\n",
    "\n",
    "$$\n",
    "\\begin{align*}\n",
    "0 \\in \\theta^{*} - a + \\partial \\iota_{\\Theta^{*}}(\\theta^{*})\n",
    "\\end{align*}\n",
    "$$\n",
    "\n",
    "holds, by convexity and since CQ holds. Note that in the exercise compendium, we show that the subdifferential of the indicator function of a set is the normal cone to that set. In particular, in our case we have that \n",
    "\n",
    "$$\n",
    "\\begin{align*}\n",
    "\\partial \\iota_{\\Theta^{*}}(\\theta^{*}) &= N_{\\Theta^{*}}(\\theta^{*}) \\\\\n",
    "&= \n",
    "\\begin{cases}\n",
    "\\left\\{s\\in\\mathbb{R}^{n}: \\forall \\eta\\in \\Theta^{*},\\, s^{T}(\\eta-\\theta^{*})\\leq 0\\right\\}   & \\text{if } \\theta^{*}\\in \\Theta^{*} \\\\\n",
    "\\emptyset                                                         & \\text{if } \\theta^{*}\\notin \\Theta^{*}\n",
    "\\end{cases} \\\\\n",
    "&= \n",
    "\\begin{cases}\n",
    "\\left\\{s\\in\\mathbb{R}^{n}: \\forall v\\in \\mathcal{N}(X),\\, s^{T} v = 0\\right\\}   & \\text{if } \\theta^{*}\\in \\Theta^{*} \\\\\n",
    "\\emptyset                                                         & \\text{if } \\theta^{*}\\notin \\Theta^{*}\n",
    "\\end{cases} \\\\\n",
    "&=\n",
    "\\begin{cases}\n",
    "\\mathcal{R}(X^{T})   & \\text{if } \\theta^{*}\\in \\Theta^{*} \\\\\n",
    "\\emptyset                                                         & \\text{if } \\theta^{*}\\notin \\Theta^{*}\n",
    "\\end{cases} \\\\\n",
    "&=\n",
    "\\begin{cases}\n",
    "\\left\\{X^{T}\\lambda: \\lambda \\in \\mathbb{R}^{N}\\right\\}   & \\text{if } \\theta^{*}\\in \\Theta^{*} \\\\\n",
    "\\emptyset                                                         & \\text{if } \\theta^{*}\\notin \\Theta^{*}.\n",
    "\\end{cases} \n",
    "\\end{align*}\n",
    "$$\n",
    "\n",
    "If we combine this with the optimality condition above we get that $\\theta^{*}$ is an optimal point to the Euclidean projection problem if and only if there exists a $\\lambda^{*}\\in\\mathbb{R}^{N}$ such that \n",
    "\n",
    "$$\n",
    "\\begin{align}\n",
    "    0 = \\theta^{*} - a + X^{T}\\lambda^{*} \\quad \\text{ and } \\quad X\\theta^{*}=Y.\n",
    "\\end{align}\n",
    "$$ \n",
    "\n",
    "Use this last optimality condition to show that $\\theta^{*} = a - X^{T}(XX^{T})^{-1}(Xa-Y)$ is the optimal point for the Euclidean projection problem. We also call this $\\theta^{*}$ the Euclidean projection (of $a$ onto $\\Theta^{*}$).\n",
    "\n",
    "Carefully motivate your answer.\n",
    "\n",
    "_Remark:_ We have a generalization: Suppose that $H\\in\\mathbb{S}^{n+1}_{++}$ and let $\\left\\lVert \\theta \\right\\rVert_{H}^{2} = \\theta^{T}H\\theta$. Then the scaled projection problem \n",
    "\n",
    "$$\n",
    "\\begin{equation}\n",
    "\\begin{aligned}\n",
    "& \\underset{\\theta\\in\\mathbb{R}^{n+1}}{\\mathrm{minimize}}\n",
    "& &  \\frac{1}{2}\\left\\lVert \\theta - a \\right\\rVert_{H}^{2}\\\\\n",
    "& \\text{subject to}\n",
    "& &  \\theta \\in \\Theta^{*}.\n",
    "\\end{aligned}\n",
    "\\end{equation} \n",
    "$$ \n",
    "\n",
    "has the solution $\\theta^{*} = a - H^{-1}X^{T}(X H^{-1}X^{T})^{-1}(X a-Y)$. We call this $\\theta^{*}$ the scaled projection (of $a$ onto $\\Theta^{*}$). You are not allowed to used this generalization to solve this problem. However, it will be used later.\n",
    "\n",
    "__Solution:__ \n",
    "\n",
    "We have the optimality conditions:\n",
    "\n",
    "\\begin{align}\\label{eq:4}\\tag{4}\n",
    "    0 = \\theta^{*} - a + X^{T}\\lambda^{*}\n",
    "\\end{align}\n",
    "\n",
    "\\begin{align}\\label{eq:5}\\tag{5}\n",
    "    X\\theta^{*}=Y\n",
    "\\end{align}\n",
    "\n",
    "\n",
    "Combining these we get:\n",
    "\n",
    "\\begin{align}\n",
    "     & 0 = \\theta^{*} - a + X^{T}\\lambda^{*} \\iff \\\\\n",
    "     & 0 = X\\theta^{*} - Xa + XX^{T}\\lambda^{*} \\iff \\\\\n",
    "     & 0 = Y - Xa + XX^{T}\\lambda^{*} \\iff \\\\\n",
    "     & XX^T\\lambda^{*} = Xa - Y \\iff \\\\\n",
    "\\end{align}\n",
    "\n",
    "As the least square problem is overparameterized we know that $XX^T$ is invertible. This means that:\n",
    "\n",
    "\\begin{align}\n",
    "    \\lambda^{*} = (XX^T)^{-1}(Xa-Y)\n",
    "\\end{align}\n",
    "\n",
    "Inserting the derived $\\lambda^{*}$ in $\\eqref{eq:4}$ we further get that:\n",
    "\n",
    "\\begin{align}\n",
    "    & 0 = \\theta^{*} - a + X^{T}(XX^T)^{-1}(Xa-Y) \\iff \\\\\n",
    "    & \\theta^{*} = a - X^{T}(XX^T)^{-1}(Xa-Y)\n",
    "\\end{align}\n",
    "\n",
    "Which is the euclidian projection."
   ]
  },
  {
   "cell_type": "markdown",
   "metadata": {},
   "source": [
    "---\n",
    "__h)__ Show that $f:\\mathbb{R}^{n+1}\\rightarrow\\mathbb{R}$ is $\\beta$-smooth, i.e., $\\nabla f$ is $\\beta$-Lipschitz continuous, with constant\n",
    "\n",
    "$$\n",
    "\\begin{align}\n",
    "    \\beta = \\frac{2}{N}\\left\\lVert X^{T}X \\right\\rVert_{2}.\n",
    "\\end{align}\n",
    "$$\n",
    "\n",
    "Recall that $\\nabla f$ is said to be $\\beta$-Lipschitz continuous if\n",
    "\n",
    "$$\n",
    "\\begin{align}\n",
    "    \\left\\lVert \\nabla f(\\theta_{1}) - \\nabla f(\\theta_{2}) \\right\\rVert_{2} \\leq \\beta\\left\\lVert \\theta_{1} - \\theta_{2} \\right\\rVert_{2}, \\quad \\forall \\theta_{1},\\theta_{2} \\in \\mathbb{R}^{n+1}.\n",
    "\\end{align}\n",
    "$$\n",
    "\n",
    "_Hint:_ Recall that the spectral norm of a matrix $A\\in\\mathbb{R}^{l\\times m}$ is defined as \n",
    "\n",
    "$$\n",
    "\\begin{align}\n",
    "    \\left\\lVert A \\right\\rVert_{2} = \\sup_{z\\in\\mathbb{R}^{m}\\setminus\\{0\\}}\\frac{\\left\\lVert A z \\right\\rVert_{2}}{\\left\\lVert z \\right\\rVert_{2}}.\n",
    "\\end{align}\n",
    "$$\n",
    "\n",
    "In particular,\n",
    "\n",
    "$$\n",
    "\\begin{align}\n",
    "    \\left\\lVert A z \\right\\rVert_{2} \\leq \\left\\lVert A \\right\\rVert_{2} \\left\\lVert z \\right\\rVert_{2}, \\quad \\forall z \\in\\mathbb{R}^{m}.\n",
    "\\end{align}\n",
    "$$\n",
    "\n",
    "_Remark:_ Note that $\\left\\lVert \\cdot \\right\\rVert_{2}$ is the __spectral norm__ and not the __Frobenius norm__ - this difference is very important to consider in your implementation below where you will use this $\\beta$. Moreover, note that $\\beta$ depends on $X$, and will vary as $X$ varies.\n",
    "\n",
    "\n",
    "__Solution:__ \n",
    "\n",
    "From task $(2)$ we know that \n",
    "\n",
    "\\begin{align}\n",
    "    \\nabla f(\\theta) = \\frac{2}{N} (X^T X \\theta - X^T Y).\n",
    "\\end{align}\n",
    "\n",
    "The left hand side of the $\\beta$-Lipschitz continuous inequality can therefor be written as\n",
    "\n",
    "\\begin{align}\n",
    "    \\left\\lVert \\frac{2}{N} (X^T X \\theta_{1} - X^T Y) - \\frac{2}{N} (X^T X \\theta_{2} - X^T Y) \\right\\rVert_{2} \\\\\n",
    "    =  \\left\\lVert \\frac{2}{N} (X^T X \\theta_{1} - X^T X \\theta_{2}) \\right\\rVert_{2} \\\\ \n",
    "    =  \\left\\lVert \\frac{2}{N} X^T X (\\theta_{1} - \\theta_{2}) \\right\\rVert_{2} \\\\ \n",
    "    =  \\frac{2}{N} \\left\\lVert X^T X (\\theta_{1} - \\theta_{2}) \\right\\rVert_{2}\n",
    "\\end{align}\n",
    "\n",
    "where $\\frac{2}{N}$ can be written outside the norm as it is a positive scalar. \n",
    "\n",
    "We know that $X^TX\\in\\mathbb{R}^{(n+1)\\times (n+1)}$ and that  $(\\theta_{1} - \\theta_{2}) \\in\\mathbb{R}^{n+1}$, since both $\\theta_{1}$ and $\\theta_{2} \\in\\mathbb{R}^{n+1}$. Using the above stated information about the spectral norm of a matrix we get the inequality\n",
    "\n",
    "\\begin{align}\n",
    "    \\left\\lVert X^T X (\\theta_{1} - \\theta_{2}) \\right\\rVert_{2} \n",
    "    \\leq \\left\\lVert X^T X \\right\\rVert_{2} \\left\\lVert \\theta_{1} - \\theta_{2} \\right\\rVert_{2}.\n",
    "\\end{align} \n",
    "\n",
    "Given by the task is that \n",
    "\n",
    "\\begin{align}\n",
    "    \\beta = \\frac{2}{N}\\left\\lVert X^{T}X \\right\\rVert_{2}.\n",
    "\\end{align}\n",
    "\n",
    "and so it is proven that \n",
    "\n",
    "\\begin{align}\n",
    "    \\left\\lVert \\nabla f(\\theta_{1}) - \\nabla f(\\theta_{2}) \\right\\rVert_{2} \\leq \\beta\\left\\lVert \\theta_{1} - \\theta_{2} \\right\\rVert_{2}, \\quad \\forall \\theta_{1},\\theta_{2} \\in \\mathbb{R}^{n+1}.\n",
    "\\end{align} \n",
    "\n"
   ]
  },
  {
   "cell_type": "markdown",
   "metadata": {},
   "source": [
    "---\n",
    "### Exercise 2: Implementing GD and SGD for polynomial fitting \n",
    "_Remark:_ You should solve this exercise using `numpy` primarily.\n",
    "\n",
    "Consider the data point $\\{(x_{i},y_{i})\\}_{i=1}^{N}\\subseteq\\mathbb{R}\\times\\mathbb{R}$, where $N=7$, below:"
   ]
  },
  {
   "cell_type": "code",
   "execution_count": 12,
   "metadata": {},
   "outputs": [
    {
     "data": {
      "image/png": "[encoded data removed]",
      "text/plain": [
       "<Figure size 600x400 with 1 Axes>"
      ]
     },
     "metadata": {
      "needs_background": "light"
     },
     "output_type": "display_data"
    }
   ],
   "source": [
    "import numpy as np\n",
    "import matplotlib.pyplot as plt\n",
    "%matplotlib inline\n",
    "\n",
    "N = 7 # the number of data points\n",
    "xs = np.linspace(-1, 1, num=N) # the x_i's\n",
    "ys = np.sin(5*xs)*np.exp(np.abs(2*xs)) / 10 # the y_i's\n",
    "\n",
    "fig, axes = plt.subplots(dpi=100)\n",
    "axes.plot(xs,ys,'ko')\n",
    "axes.legend([r'Data points $\\{(x_{i},y_{i})\\}_{i=1}^{N}$'])\n",
    "axes.set_xlabel('$x$')\n",
    "axes.set_ylabel('$y$')\n",
    "axes.grid(linestyle='dashed', linewidth=0.5)\n",
    "axes.set_ylim([-1.5, 1.5]);"
   ]
  },
  {
   "cell_type": "markdown",
   "metadata": {},
   "source": [
    "We wish to fit a polynomial model $m(\\cdot;\\theta)$ of degree $n=3$ (overdetermined) and $n=9$ (underdetermined) to the data points  $\\{(x_{i},y_{i})\\}_{i=1}^{N}$ by solving optimization problem (1) or equivalently (2) in __Exercise 1__ above."
   ]
  },
  {
   "cell_type": "markdown",
   "metadata": {},
   "source": [
    "---\n",
    "__a)__ First, do this by implementing the GD method. The GD method is given by\n",
    "- Pick $\\theta_{0}\\in\\mathbb{R}^{n+1}$\n",
    "- For $k\\geq 0$:\n",
    "    - Set $\\theta_{k+1} = \\theta_{k} - \\gamma_{k} \\nabla f(\\theta_{k})$ for some $\\gamma_{k}>0$.\n",
    "\n",
    "Pick $\\theta_{0} = 0$ as the initial point, and try the constant step size\n",
    "\n",
    "1. $\\gamma_{k} = 1 / \\beta$,\n",
    "\n",
    "and run for $10^5$ iterations. Here, $\\beta$ is the smoothness parameter from __Exercise 1__ above. Plot, in log-linear scale, both\n",
    "\n",
    "- $f(\\theta_{k})-f(\\theta^{*})$ and\n",
    "- $f(\\overline{\\theta}_{k})-f(\\theta^{*})$ where $\\overline{\\theta}_{k} = \\frac{1}{k+1}\\sum_{l=0}^{k}\\theta_{l}$, (Hint: use [sequential average computation](https://math.stackexchange.com/questions/106313/regular-average-calculated-accumulatively))\n",
    "\n",
    "as a function of iteration number $k$. Give comments:\n",
    "- Describe any difference between the $n=3$ (overdetermined) and $n=9$ (underdetermined) cases.\n",
    "\n",
    "_Hint:_ What is $f(\\theta^{*})$ in the overdetermined and underdetermined case, respectively? \n",
    "\n",
    "__Solution:__ \n",
    "\n",
    "_Fill in your solution here!_"
   ]
  },
  {
   "cell_type": "code",
   "execution_count": 13,
   "metadata": {},
   "outputs": [
    {
     "name": "stdout",
     "output_type": "stream",
     "text": [
      "[-7.38580399e-17  5.23557283e-01  1.68545997e-16 -1.24520755e+00]\n"
     ]
    },
    {
     "data": {
      "image/png": "[encoded data removed]",
      "text/plain": [
       "<Figure size 432x288 with 1 Axes>"
      ]
     },
     "metadata": {
      "needs_background": "light"
     },
     "output_type": "display_data"
    },
    {
     "data": {
      "image/png": "[encoded data removed]",
      "text/plain": [
       "<Figure size 432x288 with 1 Axes>"
      ]
     },
     "metadata": {
      "needs_background": "light"
     },
     "output_type": "display_data"
    }
   ],
   "source": [
    "n = 3 #Sets the degree\n",
    "N = len(xs)\n",
    "theta = np.zeros(n+1).transpose() #Creates the initial theta\n",
    "\n",
    "X = np.array([np.power(x, np.arange(n+1)) for x in xs]) #The X matrix\n",
    "XT = X.transpose() #Transpose of X\n",
    "XTX = XT@X\n",
    "beta = 2/N*np.linalg.norm(XTX, 2)#Smoothness parameter dependent on X\n",
    "gamma_k = 1/beta #constant stepsize\n",
    "\n",
    "theta_sum = theta #sum of all thetas\n",
    "func_vals = np.array(1/N*np.square(np.linalg.norm(X@theta - ys)))\n",
    "func_vals_avg = np.array(1/N*np.square(np.linalg.norm(X@theta_sum - ys)))\n",
    "                     \n",
    "for k in range(0, 100000):\n",
    "    theta = theta - gamma_k*2/N*(XTX@theta-XT@ys)\n",
    "    theta_sum = theta_sum + theta\n",
    "    func_vals = np.append(func_vals, 1/N*np.square(np.linalg.norm(X@theta - ys)))\n",
    "    func_vals_avg = np.append(func_vals_avg, 1/N*np.square(np.linalg.norm(X@theta_sum/(k+1) - ys)))\n",
    "\n",
    "vals = np.array([func_val - 1/N*np.square(np.linalg.norm(X@theta - ys)) for func_val in func_vals])\n",
    "plt.yscale('log')\n",
    "plt.plot(vals)\n",
    "\n",
    "plt.figure()\n",
    "vals_avg = np.array([func_val_avg - 1/N*np.square(np.linalg.norm(X@theta - ys)) for func_val_avg in func_vals_avg])\n",
    "plt.yscale('log')\n",
    "plt.plot(vals_avg)\n",
    "print(theta)\n",
    "theta_star = theta"
   ]
  },
  {
   "cell_type": "markdown",
   "metadata": {},
   "source": [
    "---\n",
    "__b)__ Next, do this by implementing the SGD method. The SGD method is given by\n",
    "- Pick $\\theta_{0}\\in\\mathbb{R}^{n+1}$\n",
    "- For $k\\geq 0$:\n",
    "    - Pick $i\\in\\{1,\\ldots,N\\}$ uniformly at random\n",
    "    - Set $\\theta_{k+1} = \\theta_{k} - \\gamma_{k} \\nabla f_{i}(\\theta_{k})$ for some $\\gamma_{k}>0$.\n",
    "\n",
    "Pick $\\theta_{0} = 0$ and try the step sizes\n",
    "\n",
    "1. $\\gamma_{k} = \\frac{0.1}{\\beta}$,\n",
    "2. $\\gamma_{k} = \\frac{0.1}{\\beta(k+1)}$,\n",
    "3. $\\gamma_{k} = \\frac{0.1}{\\beta(\\lfloor k/1000\\rfloor+1)}$, where $\\lfloor \\cdot \\rfloor$ is the floor function,\n",
    "\n",
    "and run for $10^5 N$ iterations. Plot, in log-linear scale, both\n",
    "\n",
    "- $f(\\theta_{k})-f(\\theta^{*})$ and\n",
    "- $f(\\overline{\\theta}_{k})-f(\\theta^{*})$ where $\\overline{\\theta}_{k} = \\frac{1}{k+1}\\sum_{l=0}^{k}\\theta_{l}$,\n",
    "\n",
    "as a function of iteration number $k$. Give comments:\n",
    "- Does the step sizes matter? \n",
    "- Is there a difference between the $n=3$ (overdetermined) and $n=9$ (underdetermined) cases. \n",
    "- Which combination worked best? \n",
    "- Which combination of $\\gamma_{k}$ and $n$ (i.e. overdetermined or underdetermined) corresponds the most to training of neural networks? This question qualitative and has no unique answer.\n",
    "\n",
    "__Solution:__ \n",
    "\n",
    "_Fill in your solution here!_"
   ]
  },
  {
   "cell_type": "code",
   "execution_count": 14,
   "metadata": {},
   "outputs": [
    {
     "name": "stdout",
     "output_type": "stream",
     "text": [
      "[ 0.00548484 -0.18174263 -0.00105499 -0.20722949]\n",
      "[ 0.00586259 -0.17757683 -0.0008644  -0.20035945]\n"
     ]
    },
    {
     "data": {
      "image/png": "[encoded data removed]",
      "text/plain": [
       "<Figure size 432x288 with 1 Axes>"
      ]
     },
     "metadata": {
      "needs_background": "light"
     },
     "output_type": "display_data"
    },
    {
     "data": {
      "image/png": "[encoded data removed]",
      "text/plain": [
       "<Figure size 432x288 with 1 Axes>"
      ]
     },
     "metadata": {
      "needs_background": "light"
     },
     "output_type": "display_data"
    }
   ],
   "source": [
    "n = 3 #Sets the degree\n",
    "X = np.array([np.power(x, np.arange(n+1)) for x in xs]) #The X matrix\n",
    "XT = X.transpose() #Transpose of X\n",
    "XTX = XT@X\n",
    "\n",
    "beta = 2/N*np.linalg.norm(XTX, 2)#Smoothness parameter dependent on X\n",
    "gamma_k = 0.1/beta #constant stepsize\n",
    "phi = np.array([np.power(x, np.arange(n+1)) for x in xs])\n",
    "theta = np.zeros(n+1).transpose() #Creates the initial theta\n",
    "\n",
    "theta_sum = theta #sum of all thetas\n",
    "func_vals = np.array(1/N*np.square(np.linalg.norm(X@theta - ys)))\n",
    "func_vals_avg = np.array(1/N*np.square(np.linalg.norm(X@theta_sum - ys)))\n",
    "\n",
    "for k in range(0, 30000):\n",
    "    stok = np.random.randint(0, high=7)\n",
    "    theta = theta - gamma_k*2*np.transpose(X[stok])*(X[stok]@theta-ys[stok])\n",
    "    theta_sum = theta_sum + theta\n",
    "    gamma_k = 0.1/(beta*(k+1)) #step size nr2\n",
    "    #gamma_k = 0.1/(beta*(np.floor(k/1000)+1))\n",
    "    func_vals = np.append(func_vals, 1/N*np.square(np.linalg.norm(X@theta - ys)))\n",
    "    func_vals_avg = np.append(func_vals_avg, 1/N*np.square(np.linalg.norm(X@theta_sum/(k+1) - ys)))\n",
    "    \n",
    "vals = np.array([func_val - 1/N*np.square(np.linalg.norm(X@theta_star - ys)) for func_val in func_vals])\n",
    "plt.yscale('log')\n",
    "plt.plot(vals)\n",
    "\n",
    "plt.figure()\n",
    "vals_avg = np.array([func_val_avg - 1/N*np.square(np.linalg.norm(X@theta_star - ys)) for func_val_avg in func_vals_avg])\n",
    "plt.yscale('log')\n",
    "plt.plot(vals_avg)\n",
    "print(theta)\n",
    "print(theta_sum/(30000))"
   ]
  },
  {
   "cell_type": "markdown",
   "metadata": {},
   "source": [
    "---\n",
    "### Exercise 3: Fitting points in $\\mathbb{R}$ using fully connected feedforward neural networks\n",
    "\n",
    "Again, we consider the data points $\\{(x_{i},y_{i})\\}_{i=1}^{N}\\subseteq\\mathbb{R}\\times\\mathbb{R}$, where $N=7$, below:\n"
   ]
  },
  {
   "cell_type": "code",
   "execution_count": 15,
   "metadata": {},
   "outputs": [
    {
     "data": {
      "image/png": "[encoded data removed]",
      "text/plain": [
       "<Figure size 600x400 with 1 Axes>"
      ]
     },
     "metadata": {
      "needs_background": "light"
     },
     "output_type": "display_data"
    }
   ],
   "source": [
    "N = 7 # the number of data points\n",
    "xs = np.linspace(-1, 1, num=N) # the x_i's\n",
    "ys = np.sin(5*xs)*np.exp(np.abs(2*xs)) / 10 # the y_i's\n",
    "\n",
    "fig, axes = plt.subplots(dpi=100)\n",
    "axes.plot(xs,ys,'ko')\n",
    "axes.legend([r'Data points $\\{(x_{i},y_{i})\\}_{i=1}^{N}$'])\n",
    "axes.set_xlabel('$x$')\n",
    "axes.set_ylabel('$y$')\n",
    "axes.grid(linestyle='dashed', linewidth=0.5)\n",
    "axes.set_ylim([-1.5, 1.5]);"
   ]
  },
  {
   "cell_type": "markdown",
   "metadata": {},
   "source": [
    "Polynomial fitting as in __Exercise 1__ and __Exercise 2__ gives:"
   ]
  },
  {
   "cell_type": "code",
   "execution_count": 16,
   "metadata": {},
   "outputs": [
    {
     "data": {
      "image/png": "[encoded data removed]",
      "text/plain": [
       "<Figure size 600x400 with 1 Axes>"
      ]
     },
     "metadata": {
      "needs_background": "light"
     },
     "output_type": "display_data"
    }
   ],
   "source": [
    "theta_star_n_9 = np.array([0,  0.8, 0, -1.9, 0, -0.583957507, 0, 0.28, 0, 0.695322536])\n",
    "theta_star_n_3 = np.array([0,  0.523557283,  0, -1.24520755])\n",
    "x = np.linspace(-1.1, 1.1, num = 1000)\n",
    "\n",
    "fig, axes = plt.subplots(dpi=100)\n",
    "axes.plot(xs,ys,'ko')\n",
    "axes.plot(x, np.polyval(np.flip(theta_star_n_3), x),'r--')\n",
    "axes.plot(x, np.polyval(np.flip(theta_star_n_9), x),'b--')\n",
    "axes.legend([r'Data points $\\{(x_{i},y_{i})\\}_{i=1}^{N}$', r'Fitted polynomial model $n=3$', r'Fitted polynomial model $n=9$'])\n",
    "axes.set_xlabel('$x$')\n",
    "axes.set_ylabel('$y$')\n",
    "axes.grid(linestyle='dashed', linewidth=0.5)\n",
    "axes.set_ylim([-1.5, 1.5]);"
   ]
  },
  {
   "cell_type": "markdown",
   "metadata": {},
   "source": [
    "In this exercise, we are going to explore fitting of these data points using fully connected feedforward neural networks. We will do this by considering the problem\n",
    "\n",
    "$$\n",
    "\\begin{align}\\label{eq:3}\\tag{3}\n",
    "\t\t\\underset{\\theta}{\\mathrm{minimize}} \\frac{1}{N}\\sum_{i=1}^N L(m(x_i;\\theta),y_i)\n",
    "\\end{align}\n",
    "$$\n",
    "\n",
    "where $L:\\mathbb{R}\\times\\mathbb{R}\\rightarrow\\mathbb{R}$ is the least squares loss, i.e.\n",
    "\n",
    "$$\n",
    "\\begin{align*}\n",
    "L(u,y) = (u-y)^{2}\n",
    "\\end{align*}\n",
    "$$\n",
    "\n",
    "for each $u,y\\in\\mathbb{R}$ and $m(\\cdot;\\theta):\\mathbb{R}\\rightarrow\\mathbb{R}$ is a fully connected feedforward neural network model, i.e.\n",
    "\n",
    "$$\n",
    "\\begin{align*}\n",
    "m(x;\\theta) = W_{D}\\sigma_{D-1}(W_{D-1}\\sigma_{D-2}(...\\sigma_1(W_1 x + b_{1})...)+b_{D-1})+b_{D}\t\n",
    "\\end{align*}\n",
    "$$\n",
    "\n",
    "for each $x\\in\\mathbb{R}$, where $\\sigma_i$ is an activation functions that act elements-wise, for each $i=1,\\ldots,D-1$, and\n",
    "\n",
    "$$\n",
    "\\begin{align*}\n",
    "    \\theta = (W_{1},b_1,\\ldots,W_{D},b_{D})\n",
    "\\end{align*}\n",
    "$$\n",
    "\n",
    "such that\n",
    "\n",
    "$$\n",
    "\\begin{align*}\n",
    "    \\begin{cases}\n",
    "        W_{1}\\in\\mathbb{R}^{f_{1} \\times 1}& \\text{ and }\\quad b_{1} \\in\\mathbb{R}^{f_1}\\\\\t\n",
    "        W_{i}\\in\\mathbb{R}^{f_{i} \\times f_{i-1}}& \\text{ and }\\quad b_{i} \\in\\mathbb{R}^{f_i} \\quad\\text{ for }\\quad i=2,\\ldots,D-1 \\\\\n",
    "        W_{D}\\in\\mathbb{R}^{1 \\times f_{D-1}}& \\text{ and }\\quad b_{D} \\in\\mathbb{R}.\n",
    "    \\end{cases}\n",
    "\\end{align*}\n",
    "$$\n",
    "\n",
    "In particular, we will study how the trained model $m(\\cdot;\\theta)$ depends on:\n",
    "- The widths ($f_{i}$) and depth ($D$)\n",
    "- Different activation functions ($\\sigma_{i}$)\n",
    "- Different initial points $\\theta_{0}$ used in training\n",
    "- Different training algorithms such as SGD and and Adam\n",
    "\n",
    "We will also study:\n",
    "- How the loss landscape of (3) looks along different directions at an \"optimal point\" of (3). (Note that we in general have no guarantees that our optimization algorithms will reach a true optimal point of (3) since the problem in nonconvex in general.)\n",
    "\n",
    "_Remark:_\n",
    "We will train the models using `pytorch`. `pytorch` is a widely used library or *module* for doing machine learning in python.\n",
    "It allows the user to construct, train and evaluate neural networks.\n",
    "\n",
    "- You will need to [install](https://anaconda.org/pytorch/pytorch) `pytorch`\n",
    "\n",
    "Take a quick look at `pytorch`'s\n",
    "- [tutorials](https://pytorch.org/tutorials/)\n",
    "- [documentation](https://pytorch.org/docs/stable/index.html)"
   ]
  },
  {
   "cell_type": "markdown",
   "metadata": {},
   "source": [
    "---\n",
    "`pytorch` expects to get data from a `DataLoader` object. Below we create a `DataLoader` and provide it with our data:"
   ]
  },
  {
   "cell_type": "code",
   "execution_count": 17,
   "metadata": {},
   "outputs": [],
   "source": [
    "import torch\n",
    "from torch import nn\n",
    "import torch.nn.functional as F\n",
    "from torch.utils.data import TensorDataset\n",
    "from torch.utils.data import DataLoader\n",
    "from torch import optim\n",
    "\n",
    "torch_xs = torch.tensor(xs.reshape((N,1)), dtype=torch.float32)\n",
    "torch_ys = torch.tensor(ys.reshape((N,1)), dtype=torch.float32)\n",
    "dataset = TensorDataset(torch_xs, torch_ys)\n",
    "data_loader = DataLoader(dataset, batch_size=len(xs)) # other batch sizes are of course allowed"
   ]
  },
  {
   "cell_type": "markdown",
   "metadata": {},
   "source": [
    "Typically in `pytorch`, models are defined as a child of the `nn.Module` class. Below, we create a model with:\n",
    "- Depth $D=2$\n",
    "- Width $f_1=10$\n",
    "- ReLU as activation function "
   ]
  },
  {
   "cell_type": "code",
   "execution_count": 46,
   "metadata": {},
   "outputs": [],
   "source": [
    "class model(nn.Module):\n",
    "    def __init__(self):\n",
    "        super().__init__()\n",
    "        self.linear1 = nn.Linear(in_features=1, out_features=10)    #Input 1 and output 10 - input layer to hidden layer\n",
    "        self.linear2 = nn.Linear(in_features=10, out_features=1)    #input 10 and output 1 - hidden layer to output layer \n",
    "\n",
    "#Forwards the data one epoch\n",
    "#x: data in\n",
    "#Returns: output of model\n",
    "    def forward(self, x):\n",
    "        x = self.linear1(x)\n",
    "        x = F.relu(x)\n",
    "        x = self.linear2(x)\n",
    "        return x\n",
    "\n",
    "# Create an instance of the model class.\n",
    "model = model()"
   ]
  },
  {
   "cell_type": "markdown",
   "metadata": {},
   "source": [
    "In machine learning, the objective function in (3) is sometimes itself called a loss function. In fact, it is already [implemented](https://pytorch.org/docs/stable/generated/torch.nn.MSELoss.html) in `pytorch` and we create the corresponding loss function object below:"
   ]
  },
  {
   "cell_type": "code",
   "execution_count": 47,
   "metadata": {},
   "outputs": [],
   "source": [
    "loss_fn = nn.MSELoss() #The loss function for the model (mean-square-error, same as before)"
   ]
  },
  {
   "cell_type": "markdown",
   "metadata": {},
   "source": [
    "`torch.optim` is a `pytorch` package implementing various optimization algorithms. Below we create an optimizer object that allows us to take a SGD step with step-size/learning rate equal to $0.05$."
   ]
  },
  {
   "cell_type": "code",
   "execution_count": 48,
   "metadata": {},
   "outputs": [],
   "source": [
    "optimizer = optim.SGD(model.parameters(), lr=0.05) #An stochastic-gradient descent optimization algorithm object"
   ]
  },
  {
   "cell_type": "markdown",
   "metadata": {},
   "source": [
    "Once we have defined the data loader, the model, the loss function and the optimizer as above, we can train the network by simply following these steps in a loop:\n",
    "1. Sample a batch of data from our dataset\n",
    "2. Compute the model's prediction on the batch\n",
    "3. Compute the loss of the prediction w.r.t. ground-truth\n",
    "4. Backpropagate the loss through the model's parameters\n",
    "5. Perform one training step.\n",
    "\n",
    "We will do this for $2000$ epochs."
   ]
  },
  {
   "cell_type": "code",
   "execution_count": 50,
   "metadata": {},
   "outputs": [
    {
     "name": "stdout",
     "output_type": "stream",
     "text": [
      "Epoch: 0\tLoss: 0.00013169675366953015\n",
      "Epoch: 100\tLoss: 8.767884719418362e-05\n",
      "Epoch: 200\tLoss: 5.819453872391023e-05\n",
      "Epoch: 300\tLoss: 3.8527879951288924e-05\n",
      "Epoch: 400\tLoss: 2.5457144147367217e-05\n",
      "Epoch: 500\tLoss: 1.6794776456663385e-05\n",
      "Epoch: 600\tLoss: 1.1066296792705543e-05\n",
      "Epoch: 700\tLoss: 7.284393632289721e-06\n",
      "Epoch: 800\tLoss: 4.791762421518797e-06\n",
      "Epoch: 900\tLoss: 3.150405746055185e-06\n",
      "Epoch: 1000\tLoss: 2.0704940197902033e-06\n",
      "Epoch: 1100\tLoss: 1.3603296338260407e-06\n",
      "Epoch: 1200\tLoss: 8.93690014436288e-07\n",
      "Epoch: 1300\tLoss: 5.870611516911595e-07\n",
      "Epoch: 1400\tLoss: 3.856669081869768e-07\n",
      "Epoch: 1500\tLoss: 2.533634528845141e-07\n",
      "Epoch: 1600\tLoss: 1.6646518474772165e-07\n",
      "Epoch: 1700\tLoss: 1.0944437889293113e-07\n",
      "Epoch: 1800\tLoss: 7.195155404815523e-08\n",
      "Epoch: 1900\tLoss: 4.7331642605286106e-08\n"
     ]
    }
   ],
   "source": [
    "for epoch in range(2000):\n",
    "    losses_in_epoch = []\n",
    "    for batch in data_loader:\n",
    "\n",
    "        # 1. These are the sampled batches of inputs and ground-truth\n",
    "        batch_x, batch_y = batch\n",
    "        \n",
    "        # 2. Compute the model's prediction on the batch\n",
    "        pred = model(batch_x)\n",
    "        \n",
    "        # 3. Compute the loss of the prediction w.r.t. ground-truth (in our case the y)\n",
    "        loss = loss_fn(pred, batch_y)\n",
    "        \n",
    "        # Save losses in a list for averaging later (not sctrictly necessary for batch_size = len(x))\n",
    "        losses_in_epoch.append(loss)\n",
    "        \n",
    "        # 4. Backpropagation\n",
    "        loss.backward()\n",
    "        \n",
    "        # 5. One step of SGD\n",
    "        optimizer.step()\n",
    "        \n",
    "        # Zero the gradients computed in the backpropagation, for starting new optimization step\n",
    "        optimizer.zero_grad()\n",
    "\n",
    "    # Every 100th epoch, display progress\n",
    "    if epoch % 100 == 0:\n",
    "        print('Epoch: {}\\tLoss: {}'.format(epoch, sum(losses_in_epoch)/len(losses_in_epoch)))"
   ]
  },
  {
   "cell_type": "markdown",
   "metadata": {},
   "source": [
    "Below we plot trained model:"
   ]
  },
  {
   "cell_type": "code",
   "execution_count": 25,
   "metadata": {},
   "outputs": [
    {
     "name": "stdout",
     "output_type": "stream",
     "text": [
      "Traing loss: 0.00000\n"
     ]
    },
    {
     "data": {
      "image/png": "[encoded data removed]",
      "text/plain": [
       "<Figure size 600x400 with 1 Axes>"
      ]
     },
     "metadata": {
      "needs_background": "light"
     },
     "output_type": "display_data"
    }
   ],
   "source": [
    "with torch.no_grad():\n",
    "    x = np.linspace(-1.1, 1.1, num = 1000)\n",
    "    torch_x = torch.tensor(x.reshape((1000,1)), dtype=torch.float32)\n",
    "    y_pred = model(torch_x).numpy()\n",
    "    \n",
    "    fig, axes = plt.subplots(dpi=100)\n",
    "    axes.plot(xs,ys,'ko')\n",
    "    axes.plot(x, y_pred,'r--')\n",
    "    axes.legend([r'Data points $\\{(x_{i},y_{i})\\}_{i=1}^{N}$', r'Trained neural network'])\n",
    "    axes.set_xlabel('$x$')\n",
    "    axes.set_ylabel('$y$')\n",
    "    axes.grid(linestyle='dashed', linewidth=0.5)\n",
    "    axes.set_ylim([-1.5, 1.5]);\n",
    "    \n",
    "    print(\"Traing loss: {:.5f}\".format(loss_fn(model(torch_xs),torch_ys).item()))"
   ]
  },
  {
   "cell_type": "markdown",
   "metadata": {},
   "source": [
    "__a)__ First, we experiment with the widths ($f_{i}$) and depth ($D$).\n",
    "\n",
    "Choose widths ($f_{i}$) and depth ($D$) such that:\n",
    "- the network becomes underparameterized (motive why it is underparameterized)\n",
    "- the network becomes overparameterized (motive why it is overparameterized)\n",
    "\n",
    "and train the model as above.\n",
    "\n",
    "In this subproblem, keep the activation functions fixed as ReLU. However, you are free to experiment with the learning rate and the number of epoch.\n",
    "\n",
    "How does these two cases differ? Give a qualitative and quantitative analysis.\n",
    "\n",
    "__Solution:__ \n",
    "\n",
    "_Fill in your solution here!_"
   ]
  },
  {
   "cell_type": "code",
   "execution_count": 42,
   "metadata": {},
   "outputs": [
    {
     "name": "stdout",
     "output_type": "stream",
     "text": [
      "Epoch: 0\tLoss: 0.508963942527771\n",
      "Epoch: 100\tLoss: 0.1556757539510727\n",
      "Epoch: 200\tLoss: 0.1556757688522339\n",
      "Epoch: 300\tLoss: 0.1556757688522339\n",
      "Epoch: 400\tLoss: 0.1556757688522339\n",
      "Epoch: 500\tLoss: 0.1556757688522339\n",
      "Epoch: 600\tLoss: 0.1556757688522339\n",
      "Epoch: 700\tLoss: 0.1556757688522339\n",
      "Epoch: 800\tLoss: 0.1556757688522339\n",
      "Epoch: 900\tLoss: 0.1556757688522339\n",
      "Epoch: 1000\tLoss: 0.1556757688522339\n",
      "Epoch: 1100\tLoss: 0.1556757688522339\n",
      "Epoch: 1200\tLoss: 0.1556757688522339\n",
      "Epoch: 1300\tLoss: 0.1556757688522339\n",
      "Epoch: 1400\tLoss: 0.1556757688522339\n",
      "Epoch: 1500\tLoss: 0.1556757688522339\n",
      "Epoch: 1600\tLoss: 0.1556757688522339\n",
      "Epoch: 1700\tLoss: 0.1556757688522339\n",
      "Epoch: 1800\tLoss: 0.1556757688522339\n",
      "Epoch: 1900\tLoss: 0.1556757688522339\n"
     ]
    }
   ],
   "source": [
    "#Underparameterized model\n",
    "#We have D=2 and f1=1 which gives 4 parameters in total which is larger than the number of training examples, N=7.\n",
    "class model_under(nn.Module):\n",
    "    def __init__(self):\n",
    "        super().__init__()\n",
    "        self.linear1 = nn.Linear(in_features=1, out_features=1)    #Input 1 and output 10 - input layer to hidden layer\n",
    "        self.linear2 = nn.Linear(in_features=1, out_features=1)    #input 10 and output 1 - hidden layer to output layer \n",
    "\n",
    "#Forwards the data one epoch\n",
    "#x: data in\n",
    "#Returns: output of model\n",
    "    def forward(self, x):\n",
    "        x = self.linear1(x)\n",
    "        x = F.relu(x)\n",
    "        x = self.linear2(x)\n",
    "        return x\n",
    "\n",
    "\n",
    "#Creates an instance of the underparameterized model\n",
    "model = model_under()\n",
    "\n",
    "nr_lr = 0.05    #Evaluate for different values\n",
    "nr_epoch = 2000    #Evaluate for different values \n",
    "\n",
    "loss_fn = nn.MSELoss() #The loss function for the model (mean-square-error, same as before)\n",
    "optimizer = optim.SGD(model.parameters(), lr = nr_lr) #An stochastic-gradient descent optimization algorithm object\n",
    "\n",
    "#Runs the algorithm\n",
    "for epoch in range(nr_epoch):\n",
    "    losses_in_epoch = []\n",
    "    for batch in data_loader:\n",
    "    \n",
    "        # 1. These are the sampled batches of inputs and ground-truth\n",
    "        batch_x, batch_y = batch\n",
    "            \n",
    "        # 2. Compute the model's prediction on the batch\n",
    "        pred = model(batch_x)\n",
    "            \n",
    "        # 3. Compute the loss of the prediction w.r.t. ground-truth (in our case the y)\n",
    "        loss = loss_fn(pred, batch_y)\n",
    "            \n",
    "        # Save losses in a list for averaging later (not sctrictly necessary for batch_size = len(x))\n",
    "        losses_in_epoch.append(loss)\n",
    "        \n",
    "        # 4. Backpropagation\n",
    "        loss.backward()\n",
    "        \n",
    "        # 5. One step of SGD\n",
    "        optimizer.step()\n",
    "        \n",
    "        # Zero the gradients computed in the backpropagation, for starting new optimization step\n",
    "        optimizer.zero_grad()\n",
    "    \n",
    "    # Every 100th epoch, display progress\n",
    "    if epoch % 100 == 0:\n",
    "        print('Epoch: {}\\tLoss: {}'.format(epoch, sum(losses_in_epoch)/len(losses_in_epoch)))\n"
   ]
  },
  {
   "cell_type": "code",
   "execution_count": 44,
   "metadata": {},
   "outputs": [
    {
     "name": "stdout",
     "output_type": "stream",
     "text": [
      "Epoch: 0\tLoss: 0.1944042295217514\n",
      "Epoch: 100\tLoss: 0.05838492140173912\n",
      "Epoch: 200\tLoss: 0.05453144386410713\n",
      "Epoch: 300\tLoss: 0.05306297168135643\n",
      "Epoch: 400\tLoss: 0.051876574754714966\n",
      "Epoch: 500\tLoss: 0.05111256614327431\n",
      "Epoch: 600\tLoss: 0.05054006353020668\n",
      "Epoch: 700\tLoss: 0.050099097192287445\n",
      "Epoch: 800\tLoss: 0.049748603254556656\n",
      "Epoch: 900\tLoss: 0.04946920648217201\n",
      "Epoch: 1000\tLoss: 0.049330972135066986\n",
      "Epoch: 1100\tLoss: 0.04926075413823128\n",
      "Epoch: 1200\tLoss: 0.0492195300757885\n",
      "Epoch: 1300\tLoss: 0.04919483885169029\n",
      "Epoch: 1400\tLoss: 0.049180109053850174\n",
      "Epoch: 1500\tLoss: 0.04917142540216446\n",
      "Epoch: 1600\tLoss: 0.04916549101471901\n",
      "Epoch: 1700\tLoss: 0.049162328243255615\n",
      "Epoch: 1800\tLoss: 0.04916051775217056\n",
      "Epoch: 1900\tLoss: 0.04915907233953476\n"
     ]
    }
   ],
   "source": [
    "#Overparameterized model\n",
    "#We have D=2 and f1=10 which gives 40 parameters in total which is larger than the number of training examples, N=7.\n",
    "\n",
    "class model_over(nn.Module):\n",
    "    def __init__(self):\n",
    "        super().__init__()\n",
    "        self.linear1 = nn.Linear(in_features=1, out_features=10)    #Input 1 and output 10 - input layer to hidden layer\n",
    "        self.linear2 = nn.Linear(in_features=10, out_features=1)    #input 10 and output 1 - hidden layer to output layer \n",
    "\n",
    "#Forwards the data one epoch\n",
    "#x: data in\n",
    "#Returns: output of model\n",
    "\n",
    "    def forward(self, x):\n",
    "        x = self.linear1(x)\n",
    "        x = F.relu(x)\n",
    "        x = self.linear2(x)\n",
    "        return x\n",
    "    \n",
    "#Creates an instance of the overparameterized model\n",
    "model = model_over()\n",
    "\n",
    "nr_lr = 0.05    #Evaluate for different values\n",
    "nr_epoch = 2000    #Evaluate for different values \n",
    "\n",
    "loss_fn = nn.MSELoss() #The loss function for the model (mean-square-error, same as before)\n",
    "optimizer = optim.SGD(model.parameters(), lr = nr_lr) #An stochastic-gradient descent optimization algorithm object\n",
    "\n",
    "#Runs the algorithm\n",
    "for epoch in range(nr_epoch):\n",
    "    losses_in_epoch = []\n",
    "    for batch in data_loader:\n",
    "    \n",
    "        # 1. These are the sampled batches of inputs and ground-truth\n",
    "        batch_x, batch_y = batch\n",
    "            \n",
    "        # 2. Compute the model's prediction on the batch\n",
    "        pred = model(batch_x)\n",
    "            \n",
    "        # 3. Compute the loss of the prediction w.r.t. ground-truth (in our case the y)\n",
    "        loss = loss_fn(pred, batch_y)\n",
    "            \n",
    "        # Save losses in a list for averaging later (not sctrictly necessary for batch_size = len(x))\n",
    "        losses_in_epoch.append(loss)\n",
    "        \n",
    "        # 4. Backpropagation\n",
    "        loss.backward()\n",
    "        \n",
    "        # 5. One step of SGD\n",
    "        optimizer.step()\n",
    "        \n",
    "        # Zero the gradients computed in the backpropagation, for starting new optimization step\n",
    "        optimizer.zero_grad()\n",
    "    \n",
    "    # Every 100th epoch, display progress\n",
    "    if epoch % 100 == 0:\n",
    "        print('Epoch: {}\\tLoss: {}'.format(epoch, sum(losses_in_epoch)/len(losses_in_epoch)))\n"
   ]
  },
  {
   "cell_type": "markdown",
   "metadata": {},
   "source": [
    "__b)__ Second, we will try out different activation functions ($\\sigma_{i}$).\n",
    "\n",
    "Train two overparameterized networks with the same widths and depth, using\n",
    "- ReLU activation at each layer for one of the networks, and\n",
    "- 4 * sigmod activation at each layer for the other network.\n",
    "\n",
    "You are free to experiment with the learning rate and the number of epoch.\n",
    "\n",
    "How does these two cases differ? Give a qualitative and quantitative analysis.\n",
    "\n",
    "__Solution:__ \n",
    "\n",
    "_Fill in your solution here!_"
   ]
  },
  {
   "cell_type": "code",
   "execution_count": 14,
   "metadata": {},
   "outputs": [],
   "source": [
    "# Write your code here"
   ]
  },
  {
   "cell_type": "markdown",
   "metadata": {},
   "source": [
    "__c)__ Third, we consider different initial points ($\\theta_{0}$) used in training.\n",
    "\n",
    "\n",
    "For an overparameterized network with ReLU activation functions at each layer and fixed widths and depth, train it with different initial point (note that the constructor of `nn.Module` will initialize the parameters randomly).\n",
    "\n",
    "Does the initial point affect the final trained network? Give a qualitative and quantitative analysis.\n",
    "\n",
    "__Solution:__ \n",
    "\n",
    "_Fill in your solution here!_"
   ]
  },
  {
   "cell_type": "code",
   "execution_count": 15,
   "metadata": {},
   "outputs": [
    {
     "name": "stdout",
     "output_type": "stream",
     "text": [
      "linear1.weight tensor([[ 0.9188],\n",
      "        [-0.5048],\n",
      "        [ 0.0998],\n",
      "        [ 0.4015],\n",
      "        [-0.1506],\n",
      "        [-1.4533],\n",
      "        [ 0.6874],\n",
      "        [-1.3377],\n",
      "        [ 0.6907],\n",
      "        [-0.6217]])\n",
      "linear1.bias tensor([ 0.9189, -0.5282, -0.5319, -0.5886, -0.2188,  0.5209,  0.6873, -0.5444,\n",
      "         0.4602,  0.9383])\n",
      "linear2.weight tensor([[-0.8043,  0.0313,  0.1933,  0.2331,  0.2658, -1.1951, -0.4369,  1.3377,\n",
      "          0.4925,  0.8494]])\n",
      "linear2.bias tensor([0.6386])\n"
     ]
    }
   ],
   "source": [
    "# Hint: The code below prints the parameters of the network 'model'\n",
    "for name, param in model.named_parameters():\n",
    "    if param.requires_grad:\n",
    "        print(name, param.data)\n",
    "\n",
    "# Write your code here"
   ]
  },
  {
   "cell_type": "markdown",
   "metadata": {},
   "source": [
    "__d)__ Fourth, we consider different training algorithms.\n",
    "\n",
    "Compare\n",
    "- SGD, and\n",
    "- Adam (`optimizer = optim.Adam(model.parameters(), lr=0.1)`)\n",
    "\n",
    "for an overparameterized network with ReLU activation functions at each layer and fixed widths and depth.\n",
    "\n",
    "You are free to experiment with the learning rates and the number of epoch.\n",
    "\n",
    "How does these two cases differ? Give a qualitative and quantitative analysis.\n",
    "\n",
    "__Solution:__ \n",
    "\n",
    "_Fill in your solution here!_"
   ]
  },
  {
   "cell_type": "code",
   "execution_count": 16,
   "metadata": {},
   "outputs": [],
   "source": [
    "# Write your code here"
   ]
  },
  {
   "cell_type": "markdown",
   "metadata": {},
   "source": [
    "__e)__ Fifth, we study the loss landscape of a trained network along different directions in parameter space.  \n",
    "\n",
    "\n",
    "Train an overparameterized network with ReLU activation functions at each layer. Denote it by $m(\\cdot,\\theta^{*})$ where $\\theta^{*}$ are the learned parameters. Sample $\\Delta$, with the same size as $\\theta^{*}$, from a standard normal distribution (and keep it fixed). Plot \n",
    "\n",
    "$$\n",
    "\\begin{align*}\n",
    "    \\frac{1}{N}\\sum_{i=1}^N L\\left(m\\left(x_i;\\theta^{*} + t \\Delta\\right),y_i\\right)\n",
    "\\end{align*}\n",
    "$$\n",
    "\n",
    "as a function of $t\\in[-1,1]$ (or even a larger interval). \n",
    "\n",
    "Do the same for another network with the same widths and depth, but using 4 * sigmoid activation functions at each layer. \n",
    "\n",
    "How does these two cases differ? Give a qualitative analysis. \n",
    "\n",
    "_Hints:_ You can get the parameters as a dictionary of a model by using `model.state_dict()`, updating the parameters in the dictionary, and then loading the updated parameters into the model using `model.load_state_dict(...)`. If you use this approach it is helpful to know the difference between [a shallow copy and a deep copy of a dictionary](https://thispointer.com/python-how-to-copy-a-dictionary-shallow-copy-vs-deep-copy/) You might need to cut off values of the loss that are too high to get a nice plot.\n",
    "\n",
    "_Optional:_ Plot in two direction at the same time, i.e. plot \n",
    "$$\n",
    "\\begin{align*}\n",
    "    \\frac{1}{N}\\sum_{i=1}^N L\\left(m\\left(x_i;\\theta^{*} + t \\Delta_{t} + s \\Delta_{s}\\right),y_i\\right)\n",
    "\\end{align*}\n",
    "$$\n",
    "\n",
    "as a function of $t,s\\in[-1,1]$. \n",
    "\n",
    "__Solution:__ \n",
    "\n",
    "_Fill in your solution here!_"
   ]
  },
  {
   "cell_type": "code",
   "execution_count": 17,
   "metadata": {},
   "outputs": [],
   "source": [
    "# Write your code here"
   ]
  },
  {
   "cell_type": "markdown",
   "metadata": {},
   "source": [
    "---\n",
    "### Exercise 4: Implicit regularization via small norm in polynomial fitting in $\\mathbb{R}$\n",
    "_Remark:_ You should solve this exercise using `numpy` primarily.\n",
    "\n",
    "The purpose of this exercise is to study optimization problems in the overparameterized regime, i.e., when there are multiple solutions to choose from, and see how the norm of a given solution may affect generalization.   \n",
    "\n",
    "Again, we consider the data points $\\{(x_{i},y_{i})\\}_{i=1}^{N}\\subseteq\\mathbb{R}\\times\\mathbb{R}$, where $N=7$, below:"
   ]
  },
  {
   "cell_type": "code",
   "execution_count": 18,
   "metadata": {
    "scrolled": true
   },
   "outputs": [
    {
     "data": {
      "image/png": "[encoded data removed]",
      "text/plain": [
       "<Figure size 600x400 with 1 Axes>"
      ]
     },
     "metadata": {
      "needs_background": "light"
     },
     "output_type": "display_data"
    }
   ],
   "source": [
    "N = 7 # the number of data points\n",
    "xs = np.linspace(-1, 1, num=N) # the x_i's\n",
    "ys = np.sin(5*xs)*np.exp(np.abs(2*xs)) / 10 # the y_i's\n",
    "\n",
    "fig, axes = plt.subplots(dpi=100)\n",
    "axes.plot(xs,ys,'ko')\n",
    "axes.legend([r'Data points $\\{(x_{i},y_{i})\\}_{i=1}^{N}$'])\n",
    "axes.set_xlabel('$x$')\n",
    "axes.set_ylabel('$y$')\n",
    "axes.grid(linestyle='dashed', linewidth=0.5)\n",
    "axes.set_ylim([-1.5, 1.5]);"
   ]
  },
  {
   "cell_type": "markdown",
   "metadata": {},
   "source": [
    "We wish to fit a polynomial model $m(\\cdot;\\theta)$ of degree $n=9$ (overparameterized) to the data points  $\\{(x_{i},y_{i})\\}_{i=1}^{N}$. One solution $m(\\cdot;\\theta^{*})$ is given below:"
   ]
  },
  {
   "cell_type": "code",
   "execution_count": 19,
   "metadata": {},
   "outputs": [
    {
     "data": {
      "image/png": "[encoded data removed]",
      "text/plain": [
       "<Figure size 600x400 with 1 Axes>"
      ]
     },
     "metadata": {
      "needs_background": "light"
     },
     "output_type": "display_data"
    }
   ],
   "source": [
    "theta_star = np.array([0,  0.8, 0, -1.9, 0, -0.583957507, 0, 0.28, 0, 0.695322536])\n",
    "x = np.linspace(-1.1, 1.1, num = 1000)\n",
    "\n",
    "fig, axes = plt.subplots(dpi=100)\n",
    "axes.plot(xs,ys,'ko')\n",
    "axes.plot(x, np.polyval(np.flip(theta_star), x),'k--')\n",
    "axes.legend([r'Data points $\\{(x_{i},y_{i})\\}_{i=1}^{N}$', r'Fitted polynomial $m(\\cdot\\,;\\theta^{*})$'])\n",
    "axes.set_xlabel('$x$')\n",
    "axes.set_ylabel('$y$')\n",
    "axes.grid(linestyle='dashed', linewidth=0.5)\n",
    "axes.set_ylim([-1.5, 1.5]);"
   ]
  },
  {
   "cell_type": "markdown",
   "metadata": {},
   "source": [
    "---\n",
    "\n",
    "__a)__ Recall from __Exercise 1__ __g)__ that given a candidate point $a\\in\\mathbb{R}^{n+1}$, we can obtain a solution via the Euclidean projection formula $\\theta^{*} = a - X^{T}(XX^{T})^{-1}(Xa-Y)$. Initialize $a$ randomly and compute the projection $\\theta^{*}$ and plot the fitted polynomial $m(\\cdot;\\theta^{*})$ as above. Vary the magnitude or norm of $\\theta^{*}$ indirectly by multiplying $a$ by $0$, $10$, $100$ and $1000$. Visually, how does the generalization of $m(\\cdot;\\theta^{*})$ correspond to the norm of $\\theta^{*}$?\n",
    "\n",
    "__Solution:__ \n",
    "\n",
    "_Fill in your solution here!_"
   ]
  },
  {
   "cell_type": "code",
   "execution_count": 20,
   "metadata": {},
   "outputs": [],
   "source": [
    "n = 9 # degree\n",
    "a = np.random.randn(n + 1)\n",
    "\n",
    "# Write your code here"
   ]
  },
  {
   "cell_type": "markdown",
   "metadata": {},
   "source": [
    "__b)__ Implement the GD method for optimization problem (2) in __Exercise 1__ above, starting at $\\theta_{0}=0$, using step size $\\gamma_{k} = 1/\\beta$, and verify that the resulting sequence $\\{\\theta_{k}\\}_{k\\geq0}$ converges to $\\theta^{*}$, where $\\theta^{*}$ is the Euclidean projection starting from the candidate point $a=0$. I.e., the GD method converges to the solution with the smallest norm. Do this by plotting $||\\theta_{k}-\\theta^{*}||_{2}^{2}$ as a function of $k$ in log-linear scale.\n",
    "\n",
    "_Remark:_ We consider $\\theta_{k}$ to have converged to $\\theta^{*}$ if $||\\theta_{k}-\\theta^{*}||_{2}^{2} \\leq 10^{-16}$.\n",
    "\n",
    "\n",
    "__Solution:__ \n",
    "\n",
    "_Fill in your solution here!_"
   ]
  },
  {
   "cell_type": "code",
   "execution_count": 21,
   "metadata": {},
   "outputs": [],
   "source": [
    "# Write your code here"
   ]
  },
  {
   "cell_type": "markdown",
   "metadata": {},
   "source": [
    "---\n",
    "\n",
    "__c)__ Implement the SGD method for optimization problem (1) in __Exercise 1__ above, starting at $\\theta_{0}=0$, using step size $\\gamma_{k} = 0.1 / \\beta$, and verify that the resulting sequence $\\{\\theta_{k}\\}_{k\\geq0}$ converges to $\\theta^{*}$, where $\\theta^{*}$ is the Euclidean projection starting from the candidate point $a=0$. I.e., the SGD method converges to the solution with the smallest norm. Do this by plotting $||\\theta_{k}-\\theta^{*}||_{2}^{2}$ as a function of $k$ in log-linear scale.\n",
    "\n",
    "\n",
    "__Solution:__ \n",
    "\n",
    "\n",
    "_Fill in your solution here!_"
   ]
  },
  {
   "cell_type": "code",
   "execution_count": 22,
   "metadata": {},
   "outputs": [],
   "source": [
    "# Write your code here"
   ]
  },
  {
   "cell_type": "markdown",
   "metadata": {},
   "source": [
    "---\n",
    "\n",
    "__d)__ The ADAM optimization method is given by:\n",
    "\n",
    "- Pick $\\theta_{0}\\in\\mathbb{R}^{n+1}$, $\\hat{m}_{0}=\\hat{v}_{0}=0\\in\\mathbb{R}^{n+1}$, $b_{m},b_{v}\\in(0,1)$ and $\\gamma,\\epsilon>0$.\n",
    "- For $k\\geq 0$:\n",
    "    - Pick $i\\in\\{1,\\ldots, N\\}$ uniformly at random\n",
    "    - Set $g_{k+1} = \\nabla f_{i}(\\theta_{k})$\n",
    "    - Set $\\hat{m}_{k+1} = b_{m}\\hat{m}_{k}+(1-b_{m})g_{k+1}$\n",
    "    - Set $\\hat{v}_{k+1} = b_{v}\\hat{v}_{k}+(1-b_{v})g_{k+1}^{2}$ (element-wise square)\n",
    "    - Set $m_{k+1}=\\hat{m}_{k+1}/(1-b_{m}^{k+1})$\n",
    "    - Set $v_{k+1}=\\hat{v}_{k+1}/(1-b_{v}^{k+1})$\n",
    "    - Set $\\theta_{k+1} = \\theta_{k} - \\gamma m_{k+1} ./ (\\sqrt{v_{k+1}} + \\epsilon\\mathbb{1})$ (element-wise division and square root)\n",
    "\n",
    "Use the [suggested values](https://arxiv.org/pdf/1412.6980.pdf):\n",
    "\n",
    "- $b_{m} = 0.9$\n",
    "- $b_{v} = 0.999$\n",
    "- $\\gamma = 0.001$\n",
    "- $\\epsilon = 10^{-8}$\n",
    "\n",
    "Implement the ADAM optimization method for optimization problem (1) in __Exercise 1__ above, starting at $\\theta_{0}=0$. Does ADAM converge to the minimum norm solution? Plot the resulting model.\n",
    "\n",
    "__Solution:__ \n",
    "\n",
    "\n",
    "_Fill in your solution here!_"
   ]
  },
  {
   "cell_type": "code",
   "execution_count": 23,
   "metadata": {},
   "outputs": [],
   "source": [
    "# Write your code here"
   ]
  },
  {
   "cell_type": "markdown",
   "metadata": {},
   "source": [
    "---\n",
    "\n",
    "__e)__ The ADAM optimization method scales the gradient independently in each coordinate. We call such methods diagonally scaled methods. \n",
    "\n",
    "Now, recall the scaled projection problem from __Exercise 1__ __g)__ above: given a candidate point $a\\in\\mathbb{R}^{n+1}$, we can obtain a solution via the scaled projection formula $\\theta^{*} = a - H^{-1}X^{T}(X H^{-1} X^{T})^{-1}(Xa-Y)$.\n",
    "\n",
    "\n",
    "Consider the candidate point $a\\in\\mathbb{R}^{n+1}$ and the highly skewed diagonal scaling matrix $H\\in\\mathbb{S}^{n+1}_{++}$ below:"
   ]
  },
  {
   "cell_type": "code",
   "execution_count": 24,
   "metadata": {},
   "outputs": [],
   "source": [
    "a = np.zeros(n + 1)\n",
    "H_inv = np.diag(np.logspace(-10, 10, num = n + 1)) # the inverse of H"
   ]
  },
  {
   "cell_type": "markdown",
   "metadata": {},
   "source": [
    "Plot the data points $\\{(x_{i},y_{i})\\}_{i=1}^{N}$ and the fitted polynomial $m(\\cdot;\\theta^{*})$ in the same figure using the scaled projection formula. Visually, does the fitted polynomial $m(\\cdot;\\theta^{*})$ seem to generalize well?\n",
    "\n",
    "__Solution:__ \n",
    "\n",
    "_Fill in your solution here!_"
   ]
  },
  {
   "cell_type": "code",
   "execution_count": 25,
   "metadata": {},
   "outputs": [],
   "source": [
    "# Write your code here"
   ]
  },
  {
   "cell_type": "markdown",
   "metadata": {},
   "source": [
    "---\n",
    "\n",
    "__f)__ The scaled GD method is given by\n",
    "- Pick $\\theta_{0}\\in\\mathbb{R}^{n+1}$ and $H\\in\\mathbb{S}_{+}^{n+1}$\n",
    "- For $k\\geq 0$:\n",
    "    - Set $\\theta_{k+1} = \\theta_{k} - \\gamma_{k} H^{-1}\\nabla f(\\theta_{k})$ for some $\\gamma_{k}>0$.\n",
    "\n",
    "For numerical reasons (i.e., so that the algorithm converges in reasonable time), consider the less skewed diagonal scaling matrix below:"
   ]
  },
  {
   "cell_type": "code",
   "execution_count": 26,
   "metadata": {},
   "outputs": [],
   "source": [
    "H_inv = np.diag(np.logspace(-3, 0, num = n + 1)) # the inverse of H"
   ]
  },
  {
   "cell_type": "markdown",
   "metadata": {},
   "source": [
    "Starting at $\\theta_{0}=0$ and using the step size $\\gamma_{k}=1/\\beta_{H}$, show that the scaled GD method converges to the scaled projection point $\\theta^{*}=a - H^{-1}X^{T}(X H^{-1} X^{T})^{-1}(Xa-Y)$ for $a=0$.\n",
    "\n",
    "Here, $\\beta_{H}$ is given by\n",
    "\n",
    "\\begin{align}\n",
    "    \\beta_{H} = \\frac{2}{N}\\left\\lVert H^{-\\frac{1}{2}}X^{T}X H^{-\\frac{1}{2}} \\right\\rVert_{2},\n",
    "\\end{align}\n",
    "\n",
    "where $H^{-\\frac{1}{2}}$ is the symmetric square root of $H^{-1}$.\n",
    "\n",
    "__Solution:__ \n",
    "\n",
    "_Fill in your solution here!_"
   ]
  },
  {
   "cell_type": "code",
   "execution_count": 27,
   "metadata": {},
   "outputs": [],
   "source": [
    "# Write your code here"
   ]
  },
  {
   "cell_type": "markdown",
   "metadata": {},
   "source": [
    "---\n",
    "### Exercise 5: Implicit regularization via flatness\n",
    "_Remark:_ You should solve this exercise using `numpy` primarily.\n",
    "\n",
    "It has been observed in the [literature](https://arxiv.org/pdf/1609.04836.pdf) that flat mimima tend to lead to better generalization than sharp minima. In this exercise, we empirically verfiy that SGD tends to favour flat mimima.\n",
    "\n",
    "Consider the finite-sum problem problem\n",
    "$$\n",
    "\\begin{equation}\n",
    "\\begin{aligned}\n",
    "& \\underset{x\\in\\mathbb{R}}{\\mathrm{minimize}}\n",
    "& & f(x)= \\frac{1}{N} \\sum_{i=1}^{N}f_{i}(x)\n",
    "\\end{aligned}\n",
    "\\end{equation}\n",
    "$$\n",
    "where the $f_{i}$'s and $f$ are given below: (the derivatives are also given for convenience.)"
   ]
  },
  {
   "cell_type": "code",
   "execution_count": null,
   "metadata": {
    "scrolled": false
   },
   "outputs": [],
   "source": [
    "from functools import partial\n",
    "\n",
    "def loss_term(phase, x):\n",
    "    if x < 50/11:\n",
    "        value = x**2\n",
    "    elif x < 50/9:\n",
    "        value = 100*(x - 5)**2\n",
    "    else:\n",
    "        value = x**2\n",
    "    return value + 20*np.sin(10*x + phase)*np.cos(2*(x - 5))\n",
    "\n",
    "def derivative_of_loss_term(phase, x):\n",
    "    if x < 50/11:\n",
    "        value = 2*x\n",
    "    elif x < 50/9:\n",
    "        value = 200*(x - 5)\n",
    "    else:\n",
    "        value = 2*x\n",
    "    return value + 20*(10*np.cos(10*x + phase)*np.cos(2*(x - 5)) - 2*np.sin(10*x + phase)*np.sin(2*(x - 5)))\n",
    "\n",
    "N = 2000 # the number of summands\n",
    "np.random.seed(0)\n",
    "phases = 2 * np.pi * np.random.rand(N)\n",
    "\n",
    "# The induvidual summands f_i as a list\n",
    "f_i_s = list(map(lambda phase : np.vectorize(partial(loss_term, phase)), phases))\n",
    "\n",
    "# The function f\n",
    "f = np.vectorize(lambda x : np.mean([f_i(x) for f_i in f_i_s]))\n",
    "\n",
    "# Derivatives are provided for convenience\n",
    "derivative_f_i_s = list(map(lambda phase : np.vectorize(partial(derivative_of_loss_term, phase)), phases))\n",
    "derivative_f = np.vectorize(lambda x : np.mean([d_f_i(x) for d_f_i in derivative_f_i_s]))\n",
    "\n",
    "x = np.linspace(-6, 7, num=1000)\n",
    "y_1 = f_i_s[0](x)\n",
    "y_2 = f_i_s[1](x)\n",
    "y = f(x)\n",
    "\n",
    "fig, axes = plt.subplots(1, 2, figsize=(15,7))\n",
    "axes[0].plot(x, y)\n",
    "axes[0].legend([\"$f(x)$\"])\n",
    "axes[0].set_xlabel('$x$')\n",
    "axes[1].plot(x, y_1)\n",
    "axes[1].plot(x, y_2)\n",
    "axes[1].legend([\"$f_{1}(x)$\", \"$f_{2}(x)$\"])\n",
    "axes[1].set_xlabel('$x$');"
   ]
  },
  {
   "cell_type": "markdown",
   "metadata": {},
   "source": [
    "Note that the function $f$ has a flat minimum close to $0$ and a sharp minimum close to $5$. Implement both GD and SGD for this problem: \n",
    "\n",
    "- Start at $x_{0}=5$, i.e., close to the sharp minimum. \n",
    "- Let both GD and SGD go for $2000$ iterations.\n",
    "- Use the same constant step size $\\gamma_{k} = 0.001$ for SGD and GD. \n",
    "- You should notice that SDG manages to escape the sharp minimum and find the flat minimum (most of the time), while GD does not. Illustrate this by plotting $x_{k}$ as a function of $k$ for both methods.  (Common mistake: We are not asking for $f(x_k)$ vs $x_k$.)\n",
    "\n",
    "Give some brief comments.\n",
    "\n",
    "__Solution:__\n",
    "\n",
    "_Fill in your solution here!_"
   ]
  },
  {
   "cell_type": "code",
   "execution_count": null,
   "metadata": {},
   "outputs": [],
   "source": [
    "# Write your code here"
   ]
  }
 ],
 "metadata": {
  "kernelspec": {
   "display_name": "Python 3 (ipykernel)",
   "language": "python",
   "name": "python3"
  },
  "language_info": {
   "codemirror_mode": {
    "name": "ipython",
    "version": 3
   },
   "file_extension": ".py",
   "mimetype": "text/x-python",
   "name": "python",
   "nbconvert_exporter": "python",
   "pygments_lexer": "ipython3",
   "version": "3.9.12"
  }
 },
 "nbformat": 4,
 "nbformat_minor": 4
}
